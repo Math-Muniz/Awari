{
  "nbformat": 4,
  "nbformat_minor": 0,
  "metadata": {
    "colab": {
      "name": "Awari Python.ipynb",
      "provenance": [],
      "authorship_tag": "ABX9TyOB7b9nFK1bWgtn2l2W9Xma",
      "include_colab_link": true
    },
    "kernelspec": {
      "name": "python3",
      "display_name": "Python 3"
    },
    "language_info": {
      "name": "python"
    }
  },
  "cells": [
    {
      "cell_type": "markdown",
      "metadata": {
        "id": "view-in-github",
        "colab_type": "text"
      },
      "source": [
        "<a href=\"https://colab.research.google.com/github/Math-Muniz/Awari/blob/main/Python/Awari_Python.ipynb\" target=\"_parent\"><img src=\"https://colab.research.google.com/assets/colab-badge.svg\" alt=\"Open In Colab\"/></a>"
      ]
    },
    {
      "cell_type": "markdown",
      "source": [
        "### Desafio 1\n",
        "\n",
        "Escreva um programa em Python para contabilizar a quantidade de ocorrências de cada palavra."
      ],
      "metadata": {
        "id": "-hIelI0GgWb8"
      }
    },
    {
      "cell_type": "code",
      "source": [
        "palavras = [\n",
        "   'red', 'green', 'black', 'pink', 'black', 'white', 'black', 'eyes',\n",
        "   'white', 'black', 'orange', 'pink', 'pink', 'red', 'red', 'white', 'orange',\n",
        "   'white', \"black\", 'pink', 'green', 'green', 'pink', 'green', 'pink',\n",
        "   'white', 'orange', \"orange\", 'red'\n",
        "]\n",
        "\n",
        "\n",
        "# Seu código"
      ],
      "metadata": {
        "id": "_Y2O-oFRgaTS"
      },
      "execution_count": 2,
      "outputs": []
    },
    {
      "cell_type": "code",
      "source": [
        "count = {}\n",
        "for palavra in palavras:\n",
        "  total = palavras.count(palavra)\n",
        "  count[f'{palavra}'] = total\n",
        "print(count)"
      ],
      "metadata": {
        "colab": {
          "base_uri": "https://localhost:8080/"
        },
        "id": "eqafHeeDgaf-",
        "outputId": "7d0f665a-2263-4aec-91d4-fa77c840817e"
      },
      "execution_count": 3,
      "outputs": [
        {
          "output_type": "stream",
          "name": "stdout",
          "text": [
            "{'red': 4, 'green': 4, 'black': 5, 'pink': 6, 'white': 5, 'eyes': 1, 'orange': 4}\n"
          ]
        }
      ]
    },
    {
      "cell_type": "markdown",
      "source": [
        "### Desafio 2\n",
        "\n",
        "Escreva uma função que receba um número inteiro de horas e converta esse número para segundos.\n",
        "\n",
        "Exemplo:\n",
        "\n",
        "convert(5) ➞ 18000\n",
        "\n",
        "convert(3) ➞ 10800\n",
        "\n",
        "convert(2) ➞ 7200"
      ],
      "metadata": {
        "id": "9YxxXNaKge6R"
      }
    },
    {
      "cell_type": "code",
      "source": [
        "def convert_to_sec(number):\n",
        "    print(number * 3600)"
      ],
      "metadata": {
        "id": "wQWbWG3sgg2U"
      },
      "execution_count": 4,
      "outputs": []
    },
    {
      "cell_type": "code",
      "source": [
        "convert_to_sec(3)"
      ],
      "metadata": {
        "colab": {
          "base_uri": "https://localhost:8080/"
        },
        "id": "-OlvuVl6giV3",
        "outputId": "e8838d22-ffa3-4cc7-bb77-c55db0609196"
      },
      "execution_count": 5,
      "outputs": [
        {
          "output_type": "stream",
          "name": "stdout",
          "text": [
            "10800\n"
          ]
        }
      ]
    },
    {
      "cell_type": "markdown",
      "source": [
        "Desafio 3\n",
        "\n",
        "Escreva uma função que receba uma lista e retorne uma nova lista ordenada e sem valores duplicados."
      ],
      "metadata": {
        "id": "BpH5ZMQJgl_-"
      }
    },
    {
      "cell_type": "code",
      "source": [
        "lista = [1,2,3,4,3,30,3,4,5,6,9,3,2,1,2,4,5,15,6,6,3,13,4,45,5]"
      ],
      "metadata": {
        "id": "Yjk84QrvgjMX"
      },
      "execution_count": 6,
      "outputs": []
    },
    {
      "cell_type": "code",
      "source": [
        "def order(entrada):\n",
        "  lista = list(set(entrada))\n",
        "  lista.sort()\n",
        "  print(lista)"
      ],
      "metadata": {
        "id": "7Ifbtt-7gqFe"
      },
      "execution_count": 7,
      "outputs": []
    },
    {
      "cell_type": "code",
      "source": [
        "order(lista)"
      ],
      "metadata": {
        "colab": {
          "base_uri": "https://localhost:8080/"
        },
        "id": "CG1lA2PRgrYX",
        "outputId": "0d2d210b-eac7-4f95-ce8d-cbab8db70585"
      },
      "execution_count": 8,
      "outputs": [
        {
          "output_type": "stream",
          "name": "stdout",
          "text": [
            "[1, 2, 3, 4, 5, 6, 9, 13, 15, 30, 45]\n"
          ]
        }
      ]
    },
    {
      "cell_type": "markdown",
      "source": [
        "### Desafio 4\n",
        "\n",
        "Escreva uma função que receba uma string como parâmetro e retorne outra string com as palavras em ordem inversa.\n",
        "\n",
        "Exemplo:\n",
        "\n",
        "inverte_texto(\"Python é legal\") ➞ \"legal é Python\""
      ],
      "metadata": {
        "id": "jDJt7u8thC3m"
      }
    },
    {
      "cell_type": "code",
      "source": [
        "def inverter(texto):\n",
        "  lista = texto.split()\n",
        "  lista.reverse()\n",
        "  texto_invertido = ' '.join(lista)\n",
        "  print(texto_invertido)"
      ],
      "metadata": {
        "id": "l31LYPuEhofM"
      },
      "execution_count": 9,
      "outputs": []
    },
    {
      "cell_type": "code",
      "source": [
        "inverter('olá meu amigo')"
      ],
      "metadata": {
        "colab": {
          "base_uri": "https://localhost:8080/"
        },
        "id": "Zx4jAW8ehyLp",
        "outputId": "1aea303a-5151-41ef-8a50-66cd302d0547"
      },
      "execution_count": 10,
      "outputs": [
        {
          "output_type": "stream",
          "name": "stdout",
          "text": [
            "amigo meu olá\n"
          ]
        }
      ]
    },
    {
      "cell_type": "markdown",
      "source": [
        "# Desafio 5\n",
        "Você trabalha em uma loja de sapatos e deve contatar uma lista de clientes dada pela seguinte lista de números de telefones:"
      ],
      "metadata": {
        "id": "okuFYpTUh98Q"
      }
    },
    {
      "cell_type": "code",
      "source": [
        "numeros_telefone = [\n",
        "'(765) 368-1506',\n",
        "'(285) 608-2448',\n",
        "'(255) 826-9050',\n",
        "'(554) 994-1517',\n",
        "'(285) 608-2448',\n",
        "'(596) 336-5508',\n",
        "'(511) 821-7870',\n",
        "'(410) 665-4447',\n",
        "'(821) 642-8987',\n",
        "'(285) 608-2448',\n",
        "'(311) 799-3883',\n",
        "'(935) 875-2054',\n",
        "'(464) 788-2397',\n",
        "'(765) 368-1506',\n",
        "'(650) 684-1437',\n",
        "'(812) 816-0881',\n",
        "'(285) 608-2448',\n",
        "'(885) 407-1719',\n",
        "'(943) 769-1061',\n",
        "'(596) 336-5508',\n",
        "'(765) 368-1506',\n",
        "'(255) 826-9050',\n",
        "]"
      ],
      "metadata": {
        "id": "I4RoO5Rvh9e_"
      },
      "execution_count": 11,
      "outputs": []
    },
    {
      "cell_type": "markdown",
      "source": [
        "No entanto, alguns destes números estão duplicados. Você seria capaz de remover estes duplicados para evitar que clientes sejam contatado mais de uma vez?"
      ],
      "metadata": {
        "id": "LGhvyK_wiIcc"
      }
    },
    {
      "cell_type": "code",
      "source": [
        "set(numeros_telefone)"
      ],
      "metadata": {
        "colab": {
          "base_uri": "https://localhost:8080/"
        },
        "id": "y-_kGGnoiKgL",
        "outputId": "ccd1cca7-6d85-43d7-9964-c947f93d7e10"
      },
      "execution_count": 12,
      "outputs": [
        {
          "output_type": "execute_result",
          "data": {
            "text/plain": [
              "{'(255) 826-9050',\n",
              " '(285) 608-2448',\n",
              " '(311) 799-3883',\n",
              " '(410) 665-4447',\n",
              " '(464) 788-2397',\n",
              " '(511) 821-7870',\n",
              " '(554) 994-1517',\n",
              " '(596) 336-5508',\n",
              " '(650) 684-1437',\n",
              " '(765) 368-1506',\n",
              " '(812) 816-0881',\n",
              " '(821) 642-8987',\n",
              " '(885) 407-1719',\n",
              " '(935) 875-2054',\n",
              " '(943) 769-1061'}"
            ]
          },
          "metadata": {},
          "execution_count": 12
        }
      ]
    },
    {
      "cell_type": "markdown",
      "source": [
        "### Desafio 6\n",
        "\n",
        "Crie uma função que receba duas listas e retorne uma lista que contenha apenas os elementos comuns entre as listas (sem repetição). A função deve suportar lista de tamanhos diferentes.\n",
        "\n",
        "listas:\n",
        "\n",
        "a = [1, 1, 2, 3, 5, 8, 13, 21, 34, 55, 89]\n",
        " \n",
        "b = [1, 2, 3, 4, 5, 6, 7, 8, 9, 10, 11, 12, 13]\n"
      ],
      "metadata": {
        "id": "rt6a2NjbidWX"
      }
    },
    {
      "cell_type": "code",
      "source": [
        "def elementos_comuns(lista1, lista2):\n",
        "  set_1 = set(lista1)\n",
        "  set_2 = set(lista2)\n",
        "  final = list(set_1.intersection(set_2))\n",
        "  print(final)"
      ],
      "metadata": {
        "id": "HhQVJdB9igsP"
      },
      "execution_count": 13,
      "outputs": []
    },
    {
      "cell_type": "code",
      "source": [
        "elementos_comuns([1, 1, 2, 3, 5, 8, 13, 21, 34, 55, 89], [1, 2, 3, 4, 5, 6, 7, 8, 9, 10, 11, 12, 13])"
      ],
      "metadata": {
        "colab": {
          "base_uri": "https://localhost:8080/"
        },
        "id": "p9n9EmWtijJx",
        "outputId": "2013a59b-e2c5-413f-8977-e4933a1efa22"
      },
      "execution_count": 14,
      "outputs": [
        {
          "output_type": "stream",
          "name": "stdout",
          "text": [
            "[1, 2, 3, 5, 8, 13]\n"
          ]
        }
      ]
    },
    {
      "cell_type": "markdown",
      "source": [
        "# Desafio 7\n",
        "Um professor de universidade tem uma turma com os seguintes números de telefones:"
      ],
      "metadata": {
        "id": "p8wPro5jijxb"
      }
    },
    {
      "cell_type": "code",
      "source": [
        "telefones_alunos = ['(873) 810-8267', '(633) 244-7325', '(300) 303-5462', \n",
        "                    '(938) 300-8890', '(429) 264-7427', '(737) 805-2326', \n",
        "                    '(768) 956-8497', '(941) 225-3869', '(203) 606-9463', \n",
        "                    '(294) 430-7720', '(896) 781-5087', '(397) 845-8267', \n",
        "                    '(788) 717-6858', '(419) 734-4188', '(682) 595-3278', \n",
        "                    '(835) 955-1498', '(296) 415-9944', '(897) 932-2512', \n",
        "                    '(263) 415-3893', '(822) 640-8496', '(640) 427-2597', \n",
        "                    '(856) 338-7094', '(807) 554-4076', '(641) 367-5279', \n",
        "                    '(828) 866-0696', '(727) 376-5749', '(921) 948-2244', \n",
        "                    '(964) 710-9625', '(596) 685-1242', '(403) 343-7705', \n",
        "                    '(227) 389-3685', '(264) 372-7298', '(797) 649-3653', \n",
        "                    '(374) 361-3844', '(618) 490-4228', '(987) 803-5550', \n",
        "                    '(228) 976-9699', '(757) 450-9985', '(491) 666-5367',]"
      ],
      "metadata": {
        "id": "R8WtbXIUim47"
      },
      "execution_count": 15,
      "outputs": []
    },
    {
      "cell_type": "markdown",
      "source": [
        "\\Ele criou um grupo do whatapp no entanto somente os seguintes números entraram:"
      ],
      "metadata": {
        "id": "af2WKMI0inkz"
      }
    },
    {
      "cell_type": "code",
      "source": [
        "entraram_no_grupo = ['(596) 685-1242', '(727) 376-5749', '(987) 803-5550', \n",
        "                     '(633) 244-7325', '(828) 866-0696', '(263) 415-3893', \n",
        "                     '(203) 606-9463', '(296) 415-9944', '(419) 734-4188', \n",
        "                     '(618) 490-4228', '(682) 595-3278', '(938) 300-8890', \n",
        "                     '(264) 372-7298', '(768) 956-8497', '(737) 805-2326', \n",
        "                     '(788) 717-6858', '(228) 976-9699', '(896) 781-5087',\n",
        "                     '(374) 361-3844', '(921) 948-2244', '(807) 554-4076', \n",
        "                     '(822) 640-8496', '(227) 389-3685', '(429) 264-7427', \n",
        "                     '(397) 845-8267']"
      ],
      "metadata": {
        "id": "GXgg8JlOincA"
      },
      "execution_count": 16,
      "outputs": []
    },
    {
      "cell_type": "markdown",
      "source": [
        "Você seria capaz de criar uma lista dos alunos que ainda não entraram no grupo para que sejam contatados individualmente?"
      ],
      "metadata": {
        "id": "TKVmn3t3inH3"
      }
    },
    {
      "cell_type": "code",
      "source": [
        "from pprint import pprint\n",
        "alunos = set(telefones_alunos)\n",
        "alunos_grupo = set(entraram_no_grupo)\n",
        "alunos_fora_grupo = list(alunos.difference(alunos_grupo))\n",
        "pprint(alunos_fora_grupo)"
      ],
      "metadata": {
        "colab": {
          "base_uri": "https://localhost:8080/"
        },
        "id": "-7SegPhuiyin",
        "outputId": "0ad2ba16-3afc-40b6-d29c-e24c9b7eb153"
      },
      "execution_count": 17,
      "outputs": [
        {
          "output_type": "stream",
          "name": "stdout",
          "text": [
            "['(403) 343-7705',\n",
            " '(835) 955-1498',\n",
            " '(757) 450-9985',\n",
            " '(856) 338-7094',\n",
            " '(300) 303-5462',\n",
            " '(797) 649-3653',\n",
            " '(491) 666-5367',\n",
            " '(873) 810-8267',\n",
            " '(897) 932-2512',\n",
            " '(640) 427-2597',\n",
            " '(294) 430-7720',\n",
            " '(941) 225-3869',\n",
            " '(641) 367-5279',\n",
            " '(964) 710-9625']\n"
          ]
        }
      ]
    },
    {
      "cell_type": "markdown",
      "source": [
        "### Desafio 8\n",
        "\n",
        "Escreva um script Python para encontrar as 10 palavras mais longas em um arquivo.\n",
        "\n",
        "O arquivo TXT está localizado na mesma pasta do projeto (texto.txt)."
      ],
      "metadata": {
        "id": "o33x4HgZqelh"
      }
    },
    {
      "cell_type": "code",
      "source": [
        "from operator import itemgetter\n",
        "with open('texto.txt', 'r') as f:\n",
        "    dic = {}    \n",
        "    conteudo = f.read().replace('.', ' ').replace('-', ' ').replace(',', ' ').replace(')', ' ')\n",
        "    for palavra in conteudo.split():\n",
        "        dic[f'{palavra}'] = len(palavra)\n",
        "        ordem = sorted(dic.items(), key=itemgetter(1), reverse=True)\n",
        "    for k, v in enumerate(ordem):\n",
        "        if k < 10:\n",
        "            print(v[0], v[1])"
      ],
      "metadata": {
        "colab": {
          "base_uri": "https://localhost:8080/",
          "height": 235
        },
        "id": "vVtmyH1BqfKg",
        "outputId": "2e0ca72b-4505-469c-d432-16889b348c28"
      },
      "execution_count": 18,
      "outputs": [
        {
          "output_type": "error",
          "ename": "FileNotFoundError",
          "evalue": "ignored",
          "traceback": [
            "\u001b[0;31m---------------------------------------------------------------------------\u001b[0m",
            "\u001b[0;31mFileNotFoundError\u001b[0m                         Traceback (most recent call last)",
            "\u001b[0;32m<ipython-input-18-a0287a82b91e>\u001b[0m in \u001b[0;36m<module>\u001b[0;34m()\u001b[0m\n\u001b[1;32m      1\u001b[0m \u001b[0;32mfrom\u001b[0m \u001b[0moperator\u001b[0m \u001b[0;32mimport\u001b[0m \u001b[0mitemgetter\u001b[0m\u001b[0;34m\u001b[0m\u001b[0;34m\u001b[0m\u001b[0m\n\u001b[0;32m----> 2\u001b[0;31m \u001b[0;32mwith\u001b[0m \u001b[0mopen\u001b[0m\u001b[0;34m(\u001b[0m\u001b[0;34m'texto.txt'\u001b[0m\u001b[0;34m,\u001b[0m \u001b[0;34m'r'\u001b[0m\u001b[0;34m)\u001b[0m \u001b[0;32mas\u001b[0m \u001b[0mf\u001b[0m\u001b[0;34m:\u001b[0m\u001b[0;34m\u001b[0m\u001b[0;34m\u001b[0m\u001b[0m\n\u001b[0m\u001b[1;32m      3\u001b[0m     \u001b[0mdic\u001b[0m \u001b[0;34m=\u001b[0m \u001b[0;34m{\u001b[0m\u001b[0;34m}\u001b[0m\u001b[0;34m\u001b[0m\u001b[0;34m\u001b[0m\u001b[0m\n\u001b[1;32m      4\u001b[0m     \u001b[0mconteudo\u001b[0m \u001b[0;34m=\u001b[0m \u001b[0mf\u001b[0m\u001b[0;34m.\u001b[0m\u001b[0mread\u001b[0m\u001b[0;34m(\u001b[0m\u001b[0;34m)\u001b[0m\u001b[0;34m.\u001b[0m\u001b[0mreplace\u001b[0m\u001b[0;34m(\u001b[0m\u001b[0;34m'.'\u001b[0m\u001b[0;34m,\u001b[0m \u001b[0;34m' '\u001b[0m\u001b[0;34m)\u001b[0m\u001b[0;34m.\u001b[0m\u001b[0mreplace\u001b[0m\u001b[0;34m(\u001b[0m\u001b[0;34m'-'\u001b[0m\u001b[0;34m,\u001b[0m \u001b[0;34m' '\u001b[0m\u001b[0;34m)\u001b[0m\u001b[0;34m.\u001b[0m\u001b[0mreplace\u001b[0m\u001b[0;34m(\u001b[0m\u001b[0;34m','\u001b[0m\u001b[0;34m,\u001b[0m \u001b[0;34m' '\u001b[0m\u001b[0;34m)\u001b[0m\u001b[0;34m.\u001b[0m\u001b[0mreplace\u001b[0m\u001b[0;34m(\u001b[0m\u001b[0;34m')'\u001b[0m\u001b[0;34m,\u001b[0m \u001b[0;34m' '\u001b[0m\u001b[0;34m)\u001b[0m\u001b[0;34m\u001b[0m\u001b[0;34m\u001b[0m\u001b[0m\n\u001b[1;32m      5\u001b[0m     \u001b[0;32mfor\u001b[0m \u001b[0mpalavra\u001b[0m \u001b[0;32min\u001b[0m \u001b[0mconteudo\u001b[0m\u001b[0;34m.\u001b[0m\u001b[0msplit\u001b[0m\u001b[0;34m(\u001b[0m\u001b[0;34m)\u001b[0m\u001b[0;34m:\u001b[0m\u001b[0;34m\u001b[0m\u001b[0;34m\u001b[0m\u001b[0m\n",
            "\u001b[0;31mFileNotFoundError\u001b[0m: [Errno 2] No such file or directory: 'texto.txt'"
          ]
        }
      ]
    },
    {
      "cell_type": "markdown",
      "source": [
        "### Desafio 9\n",
        "\n",
        "Escreva uma função que retorne a soma dos múltiplos de 3 e 5 entre 0 e um número limite (parâmetro). Por exemplo, se o limite for 20, ele retornará a soma de 3, 5, 6, 9, 10, 12, 15, 18, 20."
      ],
      "metadata": {
        "id": "LNlJB1w9qhos"
      }
    },
    {
      "cell_type": "code",
      "source": [
        "def soma_multiplos(limite):\n",
        "  lista = [num for num in range(1, limite + 1) if num % 3 == 0 or num % 5 == 0]\n",
        "  soma = sum(lista)\n",
        "  print(soma)"
      ],
      "metadata": {
        "id": "dxe_mGmRqjfh"
      },
      "execution_count": 19,
      "outputs": []
    },
    {
      "cell_type": "code",
      "source": [
        "soma_multiplos(20)"
      ],
      "metadata": {
        "colab": {
          "base_uri": "https://localhost:8080/"
        },
        "id": "CQe8xgZjqlej",
        "outputId": "96109203-ce7a-41e2-97ad-e5869a363709"
      },
      "execution_count": 20,
      "outputs": [
        {
          "output_type": "stream",
          "name": "stdout",
          "text": [
            "98\n"
          ]
        }
      ]
    },
    {
      "cell_type": "markdown",
      "source": [
        "### Desafio 10\n",
        "\n",
        "Dada uma lista, divida-a em 3 partes iguais e reverta cada lista.\n",
        "\n",
        "Exemplo: \n",
        "\n",
        "sampleList = [11, 45, 8, 23, 14, 12, 78, 45, 89]\n",
        "\n",
        "Parte 1 [8, 45, 11]\n",
        "\n",
        "Parte 2 [12, 14, 23]\n",
        "\n",
        "Parte 3 [89, 45, 78]"
      ],
      "metadata": {
        "id": "0FalTdTtqmRx"
      }
    },
    {
      "cell_type": "code",
      "source": [
        "sampleList = [11, 45, 8, 23, 14, 12, 78, 45, 89]\n",
        "l1 = []\n",
        "l2 = []\n",
        "l3 = []\n",
        "qtde = len(sampleList) / 3\n",
        "if qtde.is_integer():\n",
        "  for elem in sampleList:\n",
        "      if len(l1) < qtde:\n",
        "          l1.append(elem)\n",
        "          parte_1 = reversed(l1)\n",
        "      elif len(l2) < qtde:\n",
        "          l2.append(elem)\n",
        "          parte_2 = reversed(l2)\n",
        "      else:\n",
        "          if len(l3) < qtde:\n",
        "              l3.append(elem)\n",
        "              parte_3 = reversed(l3)\n",
        "  print(f'Parte 1: {list(parte_1)}'\n",
        "        f'\\nParte 2: {list(parte_2)}'\n",
        "        f'\\nParte 3: {list(parte_3)}')\n",
        "else:\n",
        "  print('A respectiva lista não pode ser dividida em 3 partes iguais!')"
      ],
      "metadata": {
        "colab": {
          "base_uri": "https://localhost:8080/"
        },
        "id": "SdlJBnHtqpQC",
        "outputId": "1467cb6a-ed69-4f87-a61f-19889c97024f"
      },
      "execution_count": 21,
      "outputs": [
        {
          "output_type": "stream",
          "name": "stdout",
          "text": [
            "Parte 1: [8, 45, 11]\n",
            "Parte 2: [12, 14, 23]\n",
            "Parte 3: [89, 45, 78]\n"
          ]
        }
      ]
    },
    {
      "cell_type": "markdown",
      "source": [
        "### Desafio 11\n",
        "Dados uma sequência com `n` números inteiros, determinar quantos números da sequência são pares e quantos são ímpares. Por exemplo, para a sequência\n",
        "\n",
        "`6   2   7  -5   8  -4`\n",
        "\n",
        "a sua função deve retornar o número 4 para o número de pares e 2 para o de ímpares. A saída deve ser um tupla contendo primeiramente o número de pares e em seguida o número de ímpares. Para o exemplo anterior, a saída seria `(4, 2)`."
      ],
      "metadata": {
        "id": "I_rma0U0qr-y"
      }
    },
    {
      "cell_type": "code",
      "source": [
        "# Seu código\n",
        "def contar_pares_impares(entrada):\n",
        "    par = impar = 0\n",
        "    lista = []\n",
        "    for num in entrada:\n",
        "      if num % 2 == 0:\n",
        "        par += 1\n",
        "      else:\n",
        "        impar += 1\n",
        "    lista.append(par)\n",
        "    lista.append(impar)\n",
        "    return tuple(lista)"
      ],
      "metadata": {
        "id": "eCQ0-F07qwWy"
      },
      "execution_count": 22,
      "outputs": []
    },
    {
      "cell_type": "code",
      "source": [
        "# Não modifique o código abaixo! Vamos testar algumas entradas\n",
        "msg_erro = \"Saída da função para a entrada {} deveria ser {}\"\n",
        "\n",
        "entrada = [6, 2, 7, -5, 8, -4]\n",
        "saida_esperada = (4, 2)\n",
        "assert contar_pares_impares(entrada)==saida_esperada, msg_erro.format(entrada, saida_esperada)\n",
        "\n",
        "entrada = [-3, 2, 7, -5, 8, -4]\n",
        "saida_esperada = (3, 3)\n",
        "assert contar_pares_impares(entrada)==saida_esperada, msg_erro.format(entrada, saida_esperada)\n",
        "\n",
        "\n",
        "# Se nenhuma mensagem for impressa abaixo, significa que a função está implementada corretamente"
      ],
      "metadata": {
        "id": "9u0oxSHnqyy0"
      },
      "execution_count": 23,
      "outputs": []
    },
    {
      "cell_type": "markdown",
      "source": [
        "### Desafio 12\n",
        "\n",
        "Escreva uma função em Python para verificar a validade de uma senha.\n",
        "\n",
        "Validação:\n",
        "\n",
        "* Pelo menos 1 letra entre [a-z] e 1 letra entre [A-Z].\n",
        "* Pelo menos 1 número entre [0-9].\n",
        "* Pelo menos 1 caractere de [$ # @].\n",
        "* Comprimento mínimo de 6 caracteres.\n",
        "* Comprimento máximo de 16 caracteres.\n",
        "\n",
        "Entradas: \"12345678\", \"J3sus0\", \"#Te5t300\", \"J*90j12374\", \"Michheeul\", \"Monk3y6\"\n",
        "\n",
        "A saída deve ser a senha e um texto indicando se a senha é válida ou inválida:\n",
        "\n",
        "```\n",
        "\"1234\" - Senha inválida\n",
        "\"Qw#1234\" - Senha válida\n",
        "```"
      ],
      "metadata": {
        "id": "v3MrFecuq1hN"
      }
    },
    {
      "cell_type": "code",
      "source": [
        "lista_senhas = ['12345678',\n",
        "          'J3sus0',\n",
        "          '#Te5t300',\n",
        "          'J*90j12374',\n",
        "          'Michheeul',\n",
        "          'Monk3y6',\n",
        "          '1234',\n",
        "          'Qw#1234']"
      ],
      "metadata": {
        "id": "KAlgQmPMq5fH"
      },
      "execution_count": 24,
      "outputs": []
    },
    {
      "cell_type": "code",
      "source": [
        "import re\n",
        "def valida_senhas(password):\n",
        "    regex = re.compile(r'^(?=.*[a-z])(?=.*[A-Z])(?=.*[0-9])(?=.*[$#@]).{6,16}$',\n",
        "                       flags=re.M)\n",
        "    resultado = re.findall(regex, password)\n",
        "    if resultado:\n",
        "        print(f'\"{password}\" - Senha válida')\n",
        "    else:\n",
        "        print(f'\"{password}\" - Senha inválida')\n",
        "\n",
        "\n",
        "for senha in lista_senhas:\n",
        "    valida_senhas(senha)"
      ],
      "metadata": {
        "colab": {
          "base_uri": "https://localhost:8080/"
        },
        "id": "vfMtzFVgq7qw",
        "outputId": "6007a62e-160e-482b-a85d-d44cb4cf4736"
      },
      "execution_count": 25,
      "outputs": [
        {
          "output_type": "stream",
          "name": "stdout",
          "text": [
            "\"12345678\" - Senha inválida\n",
            "\"J3sus0\" - Senha inválida\n",
            "\"#Te5t300\" - Senha válida\n",
            "\"J*90j12374\" - Senha inválida\n",
            "\"Michheeul\" - Senha inválida\n",
            "\"Monk3y6\" - Senha inválida\n",
            "\"1234\" - Senha inválida\n",
            "\"Qw#1234\" - Senha válida\n"
          ]
        }
      ]
    }
  ]
}